{
 "cells": [
  {
   "cell_type": "code",
   "execution_count": 2,
   "metadata": {},
   "outputs": [
    {
     "name": "stdout",
     "output_type": "stream",
     "text": [
      "Failed to generate data with matching percentages after 1000 attempts.\n"
     ]
    }
   ],
   "source": [
    "import numpy as np\n",
    "from collections import Counter\n",
    "\n",
    "def Generator(ratio, data_length, target_sum):\n",
    "    total = sum(ratio)\n",
    "    probabilities = np.array([x / total for x in ratio])\n",
    "\n",
    "    num_samples = min(data_length, len(ratio))\n",
    "\n",
    "    while True:\n",
    "        random_numbers = np.random.choice(range(1, len(ratio) + 1), size=num_samples, p=probabilities)\n",
    "        while len(random_numbers) < data_length:\n",
    "            random_numbers = np.append(random_numbers, np.random.choice(range(1, len(ratio) + 1), size=1, p=probabilities))\n",
    "\n",
    "        if sum(random_numbers) == target_sum:\n",
    "            break\n",
    "\n",
    "    np.random.shuffle(random_numbers)\n",
    "    return random_numbers\n",
    "\n",
    "def hitung_jumlah_dan_persentase(data):\n",
    "    counts = Counter(data)\n",
    "    total_data = len(data)\n",
    "    percentages = {key: (count / total_data) * 100 for key, count in counts.items()}\n",
    "    return counts, percentages\n",
    "\n",
    "def cek_persentase(data, persentase_tentukan, toleransi=5):  # Tambahkan parameter toleransi\n",
    "    _, percentages = hitung_jumlah_dan_persentase(data)\n",
    "    \n",
    "    for angka, persentase in percentages.items():\n",
    "        target_persentase = persentase_tentukan.get(angka, 0)\n",
    "        if abs(persentase - target_persentase) > toleransi:\n",
    "            return False\n",
    "    \n",
    "    return True\n",
    "\n",
    "# Define ratio and target data\n",
    "ratio = [7, 7, 10, 32, 44]\n",
    "target_validation = np.array([\n",
    "    35, 35, 40, 38, 42, 40, 38, 44, 40, 40, 41, 43, 49, 45, 35, 40, 41, 38, 40, 38, 37, 37, 38, 41, 40, 38, 40, 39, 45, 42, 45, 49, 36, 39, 41, 45, 42, 47, 40, 38, 42, 38, 39, 35, 42, 36, 37, 34, 31, 34, 40, 41\n",
    "])\n",
    "\n",
    "# Check if percentages match the specified target percentages with tolerance\n",
    "persentase_tentukan = {1: 7, 2: 7, 3: 10, 4: 32, 5: 44}\n",
    "toleransi_persentase = 5  # Anda dapat menyesuaikan toleransi sesuai kebutuhan\n",
    "\n",
    "# Generate data until percentages match within the specified tolerance\n",
    "max_attempts = 1000\n",
    "for attempt in range(max_attempts):\n",
    "    X1_data = [Generator(ratio, 10, i) for i in target_validation]\n",
    "    All_X1 = np.array(X1_data).T  # Transpose the array for easier column-wise processing\n",
    "\n",
    "    percentages_match = all(cek_persentase(column_data, persentase_tentukan, toleransi_persentase) for column_data in All_X1.T)\n",
    "    \n",
    "    if percentages_match:\n",
    "        print(f\"Success! Data generated in {attempt + 1} attempts.\")\n",
    "        break\n",
    "\n",
    "if not percentages_match:\n",
    "    print(f\"Failed to generate data with matching percentages after {max_attempts} attempts.\")\n"
   ]
  }
 ],
 "metadata": {
  "kernelspec": {
   "display_name": "base",
   "language": "python",
   "name": "python3"
  },
  "language_info": {
   "codemirror_mode": {
    "name": "ipython",
    "version": 3
   },
   "file_extension": ".py",
   "mimetype": "text/x-python",
   "name": "python",
   "nbconvert_exporter": "python",
   "pygments_lexer": "ipython3",
   "version": "3.10.12"
  }
 },
 "nbformat": 4,
 "nbformat_minor": 2
}
