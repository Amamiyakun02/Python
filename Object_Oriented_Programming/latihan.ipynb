{
 "cells": [
  {
   "cell_type": "markdown",
   "id": "2455b430-2330-4265-a24a-d83cab031b61",
   "metadata": {},
   "source": [
    "Object Oriented Programming"
   ]
  },
  {
   "cell_type": "code",
   "execution_count": 1,
   "id": "4d1d89f2-9e2a-48b8-aa4d-1ebe3941222c",
   "metadata": {},
   "outputs": [
    {
     "name": "stdout",
     "output_type": "stream",
     "text": [
      "<__main__.hero object at 0x000002133D2E0190>\n",
      "<__main__.hero object at 0x000002133D2E0130>\n",
      "sniper\n",
      "sven\n"
     ]
    }
   ],
   "source": [
    "import random\n",
    "class hero:\n",
    "    pass\n",
    "\n",
    "hero1 = hero()\n",
    "hero2 = hero()\n",
    "\n",
    "hero1.name = 'sniper'\n",
    "hero1.health = 100\n",
    "\n",
    "hero2.name = 'sven'\n",
    "hero2.health = 200\n",
    "\n",
    "print(hero1)\n",
    "print(hero2)\n",
    "print(hero1.name)\n",
    "print(hero2.name)"
   ]
  },
  {
   "cell_type": "code",
   "execution_count": 2,
   "id": "961e350f-f99d-4394-9344-5351670cdd4b",
   "metadata": {},
   "outputs": [
    {
     "name": "stdout",
     "output_type": "stream",
     "text": [
      "{'name': 'sniper', 'health': 100}\n"
     ]
    }
   ],
   "source": [
    "print(hero1.__dict__)"
   ]
  },
  {
   "cell_type": "code",
   "execution_count": 4,
   "id": "a304b7b5-abb4-4af5-a9ae-fd262a1ac53b",
   "metadata": {},
   "outputs": [
    {
     "name": "stdout",
     "output_type": "stream",
     "text": [
      "1\n",
      "2\n",
      "3\n",
      "4\n",
      "5\n",
      "tank\n",
      "200\n"
     ]
    }
   ],
   "source": [
    "class heroes:\n",
    "    jumlah = 0\n",
    "    def __init__(self,x,y):\n",
    "        self.name = x\n",
    "        self.power = y\n",
    "        heroes.jumlah = heroes.jumlah + 1\n",
    "    \n",
    "hero1 = heroes('tank',200)\n",
    "print(heroes.jumlah)\n",
    "hero2 = heroes('mage',160)\n",
    "print(heroes.jumlah)\n",
    "hero3 = heroes('fighter',250)\n",
    "print(heroes.jumlah)\n",
    "hero4 = heroes('assasin',300)\n",
    "print(heroes.jumlah)\n",
    "hero5 = heroes('marksman',150)\n",
    "print(heroes.jumlah)\n",
    "print(hero1.name)\n",
    "print(hero1.power)"
   ]
  },
  {
   "cell_type": "markdown",
   "id": "4c179cca-e1dd-4d64-9765-805721cdb1c6",
   "metadata": {},
   "source": [
    "Method"
   ]
  },
  {
   "cell_type": "code",
   "execution_count": 5,
   "id": "c14a2872-585e-4af0-b690-7a3bf88efe06",
   "metadata": {},
   "outputs": [
    {
     "name": "stdout",
     "output_type": "stream",
     "text": [
      "my name is :  sniper\n",
      "120\n",
      "140\n"
     ]
    }
   ],
   "source": [
    "class Pahlawan:\n",
    "    jumlah_pahlawan = 0\n",
    "    \n",
    "    def __init__(self,inputname,inputhealth,inputpower,inputarmor):\n",
    "        self.name = inputname\n",
    "        self.health = inputhealth\n",
    "        self.power = inputpower\n",
    "        self.armor = inputarmor\n",
    "        Pahlawan.jumlah_pahlawan += 1\n",
    "        \n",
    "    def siapa(self):\n",
    "        print(\"my name is : \",self.name)\n",
    "    \n",
    "    def tambah_darah(self,up):\n",
    "        self.health += up\n",
    "    def periksa_darah(self):\n",
    "        return self.health\n",
    "        \n",
    "\n",
    "hero1 = Pahlawan('sniper',120,10,5)\n",
    "hero1.siapa()\n",
    "print(hero1.health)\n",
    "hero1.tambah_darah(20)\n",
    "print(hero1.periksa_darah())"
   ]
  },
  {
   "cell_type": "code",
   "execution_count": null,
   "id": "91740302-eebb-4075-9361-3f825c16a203",
   "metadata": {},
   "outputs": [],
   "source": []
  }
 ],
 "metadata": {
  "kernelspec": {
   "display_name": "Python 3 (ipykernel)",
   "language": "python",
   "name": "python3"
  },
  "language_info": {
   "codemirror_mode": {
    "name": "ipython",
    "version": 3
   },
   "file_extension": ".py",
   "mimetype": "text/x-python",
   "name": "python",
   "nbconvert_exporter": "python",
   "pygments_lexer": "ipython3",
   "version": "3.9.13"
  }
 },
 "nbformat": 4,
 "nbformat_minor": 5
}
