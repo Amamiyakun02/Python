{
 "cells": [
  {
   "cell_type": "code",
   "execution_count": 11,
   "id": "e951bffd-23fb-417d-90f6-ac39cca1c7cf",
   "metadata": {},
   "outputs": [],
   "source": [
    "class Graph():\n",
    "    \n",
    "    def __init__(self,vertices):\n",
    "        self.v = vertices\n",
    "        self.graph = [[0 for column in range(vertices)]\n",
    "                      for row in range(vertices)]\n",
    "    def printSolution(self,dist):\n",
    "        print(\"vertex \\t Distance from source\")\n",
    "        for node in range(self.v):\n",
    "            print(node, \"\\t\\t\", dist[node])\n",
    "                \n",
    "    def minDistance(self,dist,sptSet):\n",
    "        min = 1e7\n",
    "        for v in range(self.v):\n",
    "            if dist[v] < min and sptSet[v] == False:\n",
    "                min = dist[v]\n",
    "                min_index = v\n",
    "        return min_index\n",
    "        \n",
    "    def dijkstra(self,src):\n",
    "        dist =[1e7] * self.v\n",
    "        dist[src] = 0\n",
    "        sptSet = [False] * self.v\n",
    "            \n",
    "        for cout in range(self.v):\n",
    "            u = self.minDistance(dist, sptSet)\n",
    "                \n",
    "            sptSet[u] = True\n",
    "                \n",
    "                \n",
    "            for v in range(self.v):\n",
    "                if(self.graph[u][v] > 0 and sptSet[v] == False and dist[v] > dist[u] + self.graph[u][v]):\n",
    "                     dist[v] = dist[u] + self.graph[u][v]\n",
    "                        \n",
    "        self.printSolution(dist)\n",
    "        "
   ]
  },
  {
   "cell_type": "code",
   "execution_count": 13,
   "id": "f5c15c00-d54a-467e-b212-e44e0303f198",
   "metadata": {},
   "outputs": [],
   "source": [
    "g = Graph(9)\n",
    "g.graph = [[0, 4, 0, 0, 0, 0, 0, 8, 0],\n",
    "           [4, 0, 8, 0, 0, 0, 0, 11, 0],\n",
    "           [0, 8, 0, 7, 0, 4, 0, 0, 2],\n",
    "           [0, 0, 7, 0, 9, 14, 0, 0, 0],\n",
    "           [0, 0, 0, 9, 0, 10, 0, 0, 0],\n",
    "           [0, 0, 4, 14, 10, 0, 2, 0, 0],\n",
    "           [0, 0, 0, 0, 0, 2, 0, 1, 6],\n",
    "           [8, 11, 0, 0, 0, 0, 1, 0, 7],\n",
    "           [0, 0, 2, 0, 0, 0, 6, 7, 0]\n",
    "           ]"
   ]
  },
  {
   "cell_type": "code",
   "execution_count": 14,
   "id": "2f001128-1422-45ee-82fa-3ee0ae6fbf38",
   "metadata": {},
   "outputs": [
    {
     "name": "stdout",
     "output_type": "stream",
     "text": [
      "vertex \t Distance from source\n",
      "0 \t\t 0\n",
      "1 \t\t 4\n",
      "2 \t\t 12\n",
      "3 \t\t 19\n",
      "4 \t\t 21\n",
      "5 \t\t 11\n",
      "6 \t\t 9\n",
      "7 \t\t 8\n",
      "8 \t\t 14\n"
     ]
    }
   ],
   "source": [
    "g.dijkstra(0)"
   ]
  },
  {
   "cell_type": "code",
   "execution_count": null,
   "id": "c45d07ad-7a35-48e2-8f58-ee1a9a539d20",
   "metadata": {},
   "outputs": [],
   "source": []
  }
 ],
 "metadata": {
  "kernelspec": {
   "display_name": "Python 3 (ipykernel)",
   "language": "python",
   "name": "python3"
  },
  "language_info": {
   "codemirror_mode": {
    "name": "ipython",
    "version": 3
   },
   "file_extension": ".py",
   "mimetype": "text/x-python",
   "name": "python",
   "nbconvert_exporter": "python",
   "pygments_lexer": "ipython3",
   "version": "3.9.16"
  }
 },
 "nbformat": 4,
 "nbformat_minor": 5
}
