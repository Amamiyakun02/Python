{
 "cells": [
  {
   "cell_type": "markdown",
   "id": "601d5118-d6d1-4584-8ef7-3f59f2fe8694",
   "metadata": {},
   "source": [
    "Struktur Data Queue"
   ]
  },
  {
   "cell_type": "code",
   "execution_count": 1,
   "id": "e9db34cd-89ab-453c-8fd1-f1297dfc20da",
   "metadata": {},
   "outputs": [],
   "source": [
    "class Queue:\n",
    "    maksimum = 6\n",
    "    head = tail = 0\n",
    "    item = []\n",
    "    def __init__(self):\n",
    "        pass\n",
    "    \n",
    "    def initialize(self):\n",
    "        Queue.head = Queue.tail = -1\n",
    "    \n",
    "    def isfull(self):\n",
    "        if Queue.tail == Queue.maksimum -1:\n",
    "            return True\n",
    "        else:\n",
    "            return False\n",
    "    def isempty(self):\n",
    "        if Queue.tail ==-1:\n",
    "            return True\n",
    "        else:\n",
    "            return False\n",
    "    def add_item(self,data):\n",
    "        if Queue.isfull(self):\n",
    "            print('Queue is full')\n",
    "        else:\n",
    "            Queue.head = 0\n",
    "            Queue.tail += 1\n",
    "            Queue.item.append(data)\n",
    "            print('item ' + data + ' has added!')\n",
    "    def pop_item(self):\n",
    "        if Queue.isempty(self):\n",
    "            print('item is empty')\n",
    "        else:\n",
    "            print('item ' + Queue.item[Queue.head] + ' is out!')\n",
    "            for a in range(len(Queue.item)-1):\n",
    "                Queue.item[a] = Queue.item[a+1]\n",
    "            Queue.tail = Queue.tail - 1"
   ]
  },
  {
   "cell_type": "code",
   "execution_count": 2,
   "id": "55a3ac85-cb60-4a5b-8fe5-2ac544b7cf04",
   "metadata": {},
   "outputs": [
    {
     "name": "stdout",
     "output_type": "stream",
     "text": [
      "item music1 has added!\n",
      "item music2 has added!\n",
      "item music3 has added!\n",
      "item music4 has added!\n",
      "item music5 has added!\n",
      "item music6 has added!\n",
      "Queue is full\n"
     ]
    }
   ],
   "source": [
    "music = Queue()\n",
    "music.initialize()\n",
    "music.add_item('music1')\n",
    "music.add_item('music2')\n",
    "music.add_item('music3')\n",
    "music.add_item('music4')\n",
    "music.add_item('music5')\n",
    "music.add_item('music6')\n",
    "music.add_item('music7')"
   ]
  },
  {
   "cell_type": "code",
   "execution_count": 3,
   "id": "ab19740d-3af5-4bcd-adc6-c27e3353fd1e",
   "metadata": {},
   "outputs": [
    {
     "name": "stdout",
     "output_type": "stream",
     "text": [
      "item music1 is out!\n",
      "item music2 is out!\n",
      "item music3 is out!\n",
      "item music4 is out!\n",
      "item music5 is out!\n",
      "item music6 is out!\n",
      "item is empty\n"
     ]
    }
   ],
   "source": [
    "music.pop_item()\n",
    "music.pop_item()\n",
    "music.pop_item()\n",
    "music.pop_item()\n",
    "music.pop_item()\n",
    "music.pop_item()\n",
    "music.pop_item()"
   ]
  },
  {
   "cell_type": "code",
   "execution_count": null,
   "id": "64fac573-dc11-4872-946b-60563b4cd293",
   "metadata": {},
   "outputs": [],
   "source": []
  }
 ],
 "metadata": {
  "kernelspec": {
   "display_name": "Python 3 (ipykernel)",
   "language": "python",
   "name": "python3"
  },
  "language_info": {
   "codemirror_mode": {
    "name": "ipython",
    "version": 3
   },
   "file_extension": ".py",
   "mimetype": "text/x-python",
   "name": "python",
   "nbconvert_exporter": "python",
   "pygments_lexer": "ipython3",
   "version": "3.9.13"
  }
 },
 "nbformat": 4,
 "nbformat_minor": 5
}
