{
 "cells": [
  {
   "cell_type": "code",
   "execution_count": 1,
   "id": "6ef0835c-0294-4304-92bd-ec94720155c5",
   "metadata": {},
   "outputs": [],
   "source": [
    "import random"
   ]
  },
  {
   "cell_type": "code",
   "execution_count": 4,
   "id": "85b299bf-8c29-48df-bc07-cae8aab79343",
   "metadata": {},
   "outputs": [],
   "source": [
    "class Hero:\n",
    "    def __init__(self,name,health,attackPower,armorNumber):\n",
    "        self.name = name\n",
    "        self.health = health\n",
    "        self.attack = attackPower\n",
    "        self.armor = armorNumber\n",
    "    def attack(self):\n",
    "        print(self.name,' menyerang')\n",
    "    def di_attack(self):\n",
    "        print(self.name,' diserang')\n",
    "        \n",
    "    def getName(self):\n",
    "        print(f\"nama :  {self.name}\")\n",
    "        \n",
    "        \n",
    "class B(Hero):\n",
    "    pass\n",
    "        "
   ]
  },
  {
   "cell_type": "code",
   "execution_count": 6,
   "id": "96708986-935d-4145-8409-fe4c96fba73f",
   "metadata": {},
   "outputs": [
    {
     "name": "stdout",
     "output_type": "stream",
     "text": [
      "nama :  jiko\n",
      "nama :  dewa\n"
     ]
    }
   ],
   "source": [
    "a = Hero(\"jiko\",1555,133,144)\n",
    "a.getName()\n",
    "\n",
    "b = B(\"dewa\",1234,124,1123)\n",
    "\n",
    "b.getName()"
   ]
  },
  {
   "cell_type": "code",
   "execution_count": 15,
   "id": "167c79bc-2451-4892-83e9-870c03eb38e5",
   "metadata": {},
   "outputs": [
    {
     "name": "stdout",
     "output_type": "stream",
     "text": [
      "$ \\mathcal(Y) $\n"
     ]
    }
   ],
   "source": [
    "rumus = r'$ \\mathcal(Y) $'\n",
    "print(rumus)"
   ]
  }
 ],
 "metadata": {
  "kernelspec": {
   "display_name": "Python 3 (ipykernel)",
   "language": "python",
   "name": "python3"
  },
  "language_info": {
   "codemirror_mode": {
    "name": "ipython",
    "version": 3
   },
   "file_extension": ".py",
   "mimetype": "text/x-python",
   "name": "python",
   "nbconvert_exporter": "python",
   "pygments_lexer": "ipython3",
   "version": "3.9.16"
  }
 },
 "nbformat": 4,
 "nbformat_minor": 5
}
