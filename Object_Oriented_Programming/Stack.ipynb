{
 "cells": [
  {
   "cell_type": "markdown",
   "id": "20a8e549-232b-43c4-871f-0dc1f7c77898",
   "metadata": {},
   "source": [
    "Struktur data STACK"
   ]
  },
  {
   "cell_type": "code",
   "execution_count": 18,
   "id": "25ac5e45-8d7c-4674-bf97-4ea454bda323",
   "metadata": {},
   "outputs": [],
   "source": [
    "class Stack:\n",
    "    maxstack = 5\n",
    "    top = -1\n",
    "    item = []\n",
    "    def __init__(self):\n",
    "        pass\n",
    "    \n",
    "    def isfull(self):\n",
    "        if Stack.top == Stack.maxstack -1:\n",
    "            return True\n",
    "        else:\n",
    "            return False\n",
    "    def isempty(self):\n",
    "        if Stack.top < 0:\n",
    "            return True\n",
    "        else:\n",
    "            return False\n",
    "    \n",
    "    def push(self,isi):\n",
    "        self.isi = isi\n",
    "        if Stack.isfull(self):\n",
    "            print('stack is full')\n",
    "        else:\n",
    "            Stack.top += 1\n",
    "            print('item ' + self.isi + ' has added!')\n",
    "            Stack.item.append(self.isi)\n",
    "    def pop(self):\n",
    "        if Stack.isempty(self):\n",
    "            print('Stack is empty')\n",
    "        else:\n",
    "            print('item ' + Stack.item[Stack.top] + \" is out!\")\n",
    "            Stack.top -= 1\n",
    "    "
   ]
  },
  {
   "cell_type": "code",
   "execution_count": 20,
   "id": "9c724021-a09c-45fa-a4ab-d37f239a1cba",
   "metadata": {},
   "outputs": [
    {
     "name": "stdout",
     "output_type": "stream",
     "text": [
      "item bawang has added!\n",
      "item karet has added!\n",
      "item bawang is out!\n"
     ]
    }
   ],
   "source": [
    "buss = Stack()\n",
    "buss.push('bawang')\n",
    "buss.push('karet')\n",
    "\n",
    "buss.pop()"
   ]
  }
 ],
 "metadata": {
  "kernelspec": {
   "display_name": "Python 3 (ipykernel)",
   "language": "python",
   "name": "python3"
  },
  "language_info": {
   "codemirror_mode": {
    "name": "ipython",
    "version": 3
   },
   "file_extension": ".py",
   "mimetype": "text/x-python",
   "name": "python",
   "nbconvert_exporter": "python",
   "pygments_lexer": "ipython3",
   "version": "3.9.13"
  }
 },
 "nbformat": 4,
 "nbformat_minor": 5
}
