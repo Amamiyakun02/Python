{
 "cells": [
  {
   "cell_type": "code",
   "execution_count": 39,
   "id": "c3383f63-dabb-4225-bfaf-814e847db8fb",
   "metadata": {},
   "outputs": [
    {
     "name": "stdout",
     "output_type": "stream",
     "text": [
      "20\n",
      "20\n"
     ]
    },
    {
     "data": {
      "text/plain": [
       "20"
      ]
     },
     "execution_count": 39,
     "metadata": {},
     "output_type": "execute_result"
    }
   ],
   "source": [
    "class coba:\n",
    "    a = 20\n",
    "    _bb = 20\n",
    "    __c = 20\n",
    "    __yourname = 'kurdi'\n",
    "    def __init__(self):\n",
    "        pass\n",
    "    def get_c(self):\n",
    "        __myname = 'maireza'\n",
    "        return self.__yourname\n",
    "    \n",
    "    def get_name(self):\n",
    "        return self.__c\n",
    "    \n",
    "    def get_a(self):\n",
    "        return self.a\n",
    "print(coba.a)\n",
    "print(coba._bb)\n",
    "num = coba()\n",
    "# print(coba.__yourname)\n",
    "num.get_c()\n",
    "num.get_name()"
   ]
  },
  {
   "cell_type": "code",
   "execution_count": 40,
   "id": "f1da7309-c225-44ca-9350-869297e99c48",
   "metadata": {},
   "outputs": [
    {
     "name": "stdout",
     "output_type": "stream",
     "text": [
      "30\n"
     ]
    },
    {
     "ename": "TypeError",
     "evalue": "get_a() missing 1 required positional argument: 'self'",
     "output_type": "error",
     "traceback": [
      "\u001b[1;31m---------------------------------------------------------------------------\u001b[0m",
      "\u001b[1;31mTypeError\u001b[0m                                 Traceback (most recent call last)",
      "Cell \u001b[1;32mIn[40], line 5\u001b[0m\n\u001b[0;32m      2\u001b[0m     a \u001b[38;5;241m=\u001b[39m \u001b[38;5;241m30\u001b[39m\n\u001b[0;32m      4\u001b[0m \u001b[38;5;28mprint\u001b[39m(nwe\u001b[38;5;241m.\u001b[39ma)\n\u001b[1;32m----> 5\u001b[0m \u001b[43mnwe\u001b[49m\u001b[38;5;241;43m.\u001b[39;49m\u001b[43mget_a\u001b[49m\u001b[43m(\u001b[49m\u001b[43m)\u001b[49m\n",
      "\u001b[1;31mTypeError\u001b[0m: get_a() missing 1 required positional argument: 'self'"
     ]
    }
   ],
   "source": [
    "class nwe(coba):\n",
    "    a = 30\n",
    "    \n",
    "print(nwe.a)\n",
    "nwe_obj = nwe()\n",
    "\n",
    "nwe_obj.get_a()"
   ]
  }
 ],
 "metadata": {
  "kernelspec": {
   "display_name": "Python 3 (ipykernel)",
   "language": "python",
   "name": "python3"
  },
  "language_info": {
   "codemirror_mode": {
    "name": "ipython",
    "version": 3
   },
   "file_extension": ".py",
   "mimetype": "text/x-python",
   "name": "python",
   "nbconvert_exporter": "python",
   "pygments_lexer": "ipython3",
   "version": "3.9.16"
  }
 },
 "nbformat": 4,
 "nbformat_minor": 5
}
