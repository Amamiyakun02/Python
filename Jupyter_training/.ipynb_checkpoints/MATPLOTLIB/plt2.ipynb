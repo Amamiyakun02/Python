{
 "cells": [
  {
   "cell_type": "code",
   "execution_count": null,
   "id": "8bcacc24-dce3-4255-a74d-ac526edffc7f",
   "metadata": {},
   "outputs": [],
   "source": [
    "import matplotlib.pyplot as plt\n",
    "import numpy as np"
   ]
  },
  {
   "cell_type": "code",
   "execution_count": null,
   "id": "060e0a05",
   "metadata": {},
   "outputs": [],
   "source": [
    "def sinusgenerator(amplitudo,fr,tAkhir,theta):\n",
    "    t = np.arange(0,tAkhir,0.1)\n",
    "    y = amplitudo + np.sin(2*fr*t+np.deg2rad(theta))\n",
    "    return t,y"
   ]
  },
  {
   "cell_type": "code",
   "execution_count": null,
   "id": "b323b415",
   "metadata": {},
   "outputs": [],
   "source": [
    "t1,y1 = sinusgenerator(1,1,4,0)\n",
    "t2,y2 = sinusgenerator(1,1,4,90)\n",
    "t3,y3 = sinusgenerator(1,1,4,180)"
   ]
  },
  {
   "cell_type": "code",
   "execution_count": null,
   "id": "ad026e8e",
   "metadata": {},
   "outputs": [],
   "source": [
    "a = plt.plot(t1,y1)\n",
    "b = plt.plot(t2,y2)\n",
    "c = plt.plot(t3,y3)"
   ]
  },
  {
   "cell_type": "code",
   "execution_count": null,
   "id": "b2bdfadf",
   "metadata": {},
   "outputs": [],
   "source": [
    "plt.setp(a,color= 'b', linestyle = '-')\n",
    "plt.setp(b,color= 'g', linestyle = '--')\n",
    "plt.setp(c,color= 'r',linestyle = '-.')\n",
    "plt.show()"
   ]
  },
  {
   "cell_type": "code",
   "execution_count": null,
   "id": "3f2cab6a",
   "metadata": {},
   "outputs": [],
   "source": []
  }
 ],
 "metadata": {
  "kernelspec": {
   "display_name": "base",
   "language": "python",
   "name": "python3"
  },
  "language_info": {
   "codemirror_mode": {
    "name": "ipython",
    "version": 3
   },
   "file_extension": ".py",
   "mimetype": "text/x-python",
   "name": "python",
   "nbconvert_exporter": "python",
   "pygments_lexer": "ipython3",
   "version": "3.9.12 (main, Apr  4 2022, 05:22:27) [MSC v.1916 64 bit (AMD64)]"
  },
  "vscode": {
   "interpreter": {
    "hash": "263930470851f494f0ed2879c35b57985588df20f9e529b86e97dd5eb9ddc466"
   }
  }
 },
 "nbformat": 4,
 "nbformat_minor": 5
}
