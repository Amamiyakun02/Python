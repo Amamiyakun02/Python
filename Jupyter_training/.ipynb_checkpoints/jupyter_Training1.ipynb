{
 "cells": [
  {
   "cell_type": "code",
   "execution_count": 2,
   "metadata": {},
   "outputs": [
    {
     "data": {
      "image/png": "[encoded data removed]",
      "text/plain": [
       "<Figure size 432x288 with 1 Axes>"
      ]
     },
     "metadata": {
      "needs_background": "light"
     },
     "output_type": "display_data"
    }
   ],
   "source": [
    "import matplotlib.pyplot as plt\n",
    "import numpy as np\n",
    "\n",
    "data1 = np.random.random(100)\n",
    "data2 = np.random.random(100)\n",
    "\n",
    "plt.scatter(data1,data2)\n",
    "plt.show()"
   ]
  },
  {
   "cell_type": "code",
   "execution_count": 14,
   "metadata": {},
   "outputs": [
    {
     "data": {
      "text/html": [
       "<div>\n",
       "<style scoped>\n",
       "    .dataframe tbody tr th:only-of-type {\n",
       "        vertical-align: middle;\n",
       "    }\n",
       "\n",
       "    .dataframe tbody tr th {\n",
       "        vertical-align: top;\n",
       "    }\n",
       "\n",
       "    .dataframe thead th {\n",
       "        text-align: right;\n",
       "    }\n",
       "</style>\n",
       "<table border=\"1\" class=\"dataframe\">\n",
       "  <thead>\n",
       "    <tr style=\"text-align: right;\">\n",
       "      <th></th>\n",
       "      <th>A</th>\n",
       "      <th>B</th>\n",
       "    </tr>\n",
       "  </thead>\n",
       "  <tbody>\n",
       "    <tr>\n",
       "      <th>0</th>\n",
       "      <td>5</td>\n",
       "      <td>6</td>\n",
       "    </tr>\n",
       "    <tr>\n",
       "      <th>1</th>\n",
       "      <td>86</td>\n",
       "      <td>4</td>\n",
       "    </tr>\n",
       "    <tr>\n",
       "      <th>2</th>\n",
       "      <td>98</td>\n",
       "      <td>88</td>\n",
       "    </tr>\n",
       "    <tr>\n",
       "      <th>3</th>\n",
       "      <td>45</td>\n",
       "      <td>54</td>\n",
       "    </tr>\n",
       "    <tr>\n",
       "      <th>4</th>\n",
       "      <td>77</td>\n",
       "      <td>53</td>\n",
       "    </tr>\n",
       "  </tbody>\n",
       "</table>\n",
       "</div>"
      ],
      "text/plain": [
       "    A   B\n",
       "0   5   6\n",
       "1  86   4\n",
       "2  98  88\n",
       "3  45  54\n",
       "4  77  53"
      ]
     },
     "metadata": {},
     "output_type": "display_data"
    }
   ],
   "source": [
    "import pandas as pd\n",
    "x = pd.DataFrame({\n",
    "    'A' : [5,86,98,45,77],\n",
    "    'B' : [6,4,88,54,53]\n",
    "})\n",
    "display(x)"
   ]
  },
  {
   "cell_type": "code",
   "execution_count": 18,
   "metadata": {},
   "outputs": [
    {
     "name": "stdout",
     "output_type": "stream",
     "text": [
      "[ 4  6  7  8  8  8  8 12 20 44 65]\n",
      "ModeResult(mode=array([8]), count=array([4]))\n",
      "8.0\n",
      "17.272727272727273\n"
     ]
    }
   ],
   "source": [
    "import numpy as np\n",
    "from scipy import stats as st\n",
    "a = np.array([12,4,6,8,8,8,8,7,20,65,44])\n",
    "print(np.sort(a))\n",
    "n = np.median(a)\n",
    "m = np.mean(a)\n",
    "c = st.mode(a)\n",
    "print(c)\n",
    "print(n)\n",
    "print(m)"
   ]
  },
  {
   "cell_type": "code",
   "execution_count": 2,
   "metadata": {},
   "outputs": [
    {
     "data": {
      "text/html": [
       "<div>\n",
       "<style scoped>\n",
       "    .dataframe tbody tr th:only-of-type {\n",
       "        vertical-align: middle;\n",
       "    }\n",
       "\n",
       "    .dataframe tbody tr th {\n",
       "        vertical-align: top;\n",
       "    }\n",
       "\n",
       "    .dataframe thead th {\n",
       "        text-align: right;\n",
       "    }\n",
       "</style>\n",
       "<table border=\"1\" class=\"dataframe\">\n",
       "  <thead>\n",
       "    <tr style=\"text-align: right;\">\n",
       "      <th></th>\n",
       "      <th>Bilangan</th>\n",
       "      <th>Frekuensi</th>\n",
       "    </tr>\n",
       "  </thead>\n",
       "  <tbody>\n",
       "    <tr>\n",
       "      <th>0</th>\n",
       "      <td>5</td>\n",
       "      <td>1</td>\n",
       "    </tr>\n",
       "    <tr>\n",
       "      <th>1</th>\n",
       "      <td>6</td>\n",
       "      <td>1</td>\n",
       "    </tr>\n",
       "    <tr>\n",
       "      <th>2</th>\n",
       "      <td>7</td>\n",
       "      <td>2</td>\n",
       "    </tr>\n",
       "    <tr>\n",
       "      <th>3</th>\n",
       "      <td>8</td>\n",
       "      <td>2</td>\n",
       "    </tr>\n",
       "    <tr>\n",
       "      <th>4</th>\n",
       "      <td>9</td>\n",
       "      <td>4</td>\n",
       "    </tr>\n",
       "    <tr>\n",
       "      <th>5</th>\n",
       "      <td>10</td>\n",
       "      <td>1</td>\n",
       "    </tr>\n",
       "  </tbody>\n",
       "</table>\n",
       "</div>"
      ],
      "text/plain": [
       "   Bilangan  Frekuensi\n",
       "0         5          1\n",
       "1         6          1\n",
       "2         7          2\n",
       "3         8          2\n",
       "4         9          4\n",
       "5        10          1"
      ]
     },
     "metadata": {},
     "output_type": "display_data"
    }
   ],
   "source": [
    "import pandas as pd\n",
    "data = pd.DataFrame({\n",
    "    'Bilangan': [5,6,7,8,9,10],\n",
    "    'Frekuensi': [1,1,2,2,4,1]\n",
    "})\n",
    "\n",
    "display(data)"
   ]
  },
  {
   "cell_type": "code",
   "execution_count": 13,
   "metadata": {},
   "outputs": [
    {
     "name": "stdout",
     "output_type": "stream",
     "text": [
      "this is  maireza\n",
      "this is  kurdi\n"
     ]
    },
    {
     "data": {
      "text/plain": [
       "1024"
      ]
     },
     "execution_count": 13,
     "metadata": {},
     "output_type": "execute_result"
    }
   ],
   "source": [
    "def contoh(**name):\n",
    "    print(\"this is \",name[\"lname\"])\n",
    "\n",
    "def contoh2(*nam):\n",
    "    print(\"this is \",nam[2])\n",
    "\n",
    "nama = ['maireza','hafis','kurdi']\n",
    "contoh(Nik = \"22015254\", lname = \"maireza\")\n",
    "contoh2('maireza','hafis','kurdi')\n",
    "\n",
    "def matematika(x):\n",
    "    return 4 ** x\n",
    "\n",
    "matematika(5)"
   ]
  },
  {
   "cell_type": "code",
   "execution_count": 17,
   "metadata": {},
   "outputs": [
    {
     "name": "stdout",
     "output_type": "stream",
     "text": [
      "720\n"
     ]
    }
   ],
   "source": [
    "def factorial(x):\n",
    "    if x <= 1:\n",
    "        return 1\n",
    "    else:\n",
    "        return x * factorial(x-1)\n",
    "\n",
    "print(factorial(6))"
   ]
  },
  {
   "cell_type": "code",
   "execution_count": 1,
   "metadata": {},
   "outputs": [
    {
     "name": "stdout",
     "output_type": "stream",
     "text": [
      "['ab', 'cd', 'ef', 'g_']\n",
      "['ab', 'cd', 'ef', 'gh']\n"
     ]
    }
   ],
   "source": [
    "p1 = 'abcdefg'\n",
    "p2 = 'abcdefgh'\n",
    "\n",
    "def solusi(arg):\n",
    "    p = arg + '_' if len(arg)%2 != 0 else arg\n",
    "    return [p[i:i+2] for i in range(0, len(p),2)]\n",
    "\n",
    "print(solusi(p1))\n",
    "print(solusi(p2))"
   ]
  },
  {
   "cell_type": "code",
   "execution_count": 3,
   "metadata": {},
   "outputs": [
    {
     "name": "stdout",
     "output_type": "stream",
     "text": [
      "maireza\n",
      "2201301179\n",
      "maireza  dengan NIM  2201301179  sedang malakukan ujian praktikum\n"
     ]
    }
   ],
   "source": [
    "class mahasiswa():\n",
    "    nama = \"\"\n",
    "    nim = 0\n",
    "\n",
    "    def praktik(self):\n",
    "        print(self.nama,\" dengan NIM \",self.nim,\" sedang malakukan ujian praktikum\" )\n",
    "reza = mahasiswa()\n",
    "reza.nama = \"maireza\"\n",
    "reza.nim = 2201301179\n",
    "print(reza.nama)\n",
    "print(reza.nim)\n",
    "reza.praktik()"
   ]
  },
  {
   "cell_type": "code",
   "execution_count": 13,
   "metadata": {},
   "outputs": [
    {
     "ename": "TypeError",
     "evalue": "factorial() takes 1 positional argument but 2 were given",
     "output_type": "error",
     "traceback": [
      "\u001b[1;31m---------------------------------------------------------------------------\u001b[0m",
      "\u001b[1;31mTypeError\u001b[0m                                 Traceback (most recent call last)",
      "\u001b[1;32md:\\Python_Code\\Jupyter_training\\.ipynb_checkpoints\\jupyter_Training1.ipynb Cell 9\u001b[0m in \u001b[0;36m<cell line: 11>\u001b[1;34m()\u001b[0m\n\u001b[0;32m      <a href='vscode-notebook-cell:/d%3A/Python_Code/Jupyter_training/.ipynb_checkpoints/jupyter_Training1.ipynb#X11sZmlsZQ%3D%3D?line=7'>8</a>\u001b[0m             \u001b[39mreturn\u001b[39;00m num \u001b[39m*\u001b[39m factorial(num \u001b[39m-\u001b[39m \u001b[39m1\u001b[39m)\n\u001b[0;32m      <a href='vscode-notebook-cell:/d%3A/Python_Code/Jupyter_training/.ipynb_checkpoints/jupyter_Training1.ipynb#X11sZmlsZQ%3D%3D?line=8'>9</a>\u001b[0m a \u001b[39m=\u001b[39m factor()\n\u001b[1;32m---> <a href='vscode-notebook-cell:/d%3A/Python_Code/Jupyter_training/.ipynb_checkpoints/jupyter_Training1.ipynb#X11sZmlsZQ%3D%3D?line=10'>11</a>\u001b[0m b \u001b[39m=\u001b[39m a\u001b[39m.\u001b[39;49mfactorial(\u001b[39m8\u001b[39;49m)\n\u001b[0;32m     <a href='vscode-notebook-cell:/d%3A/Python_Code/Jupyter_training/.ipynb_checkpoints/jupyter_Training1.ipynb#X11sZmlsZQ%3D%3D?line=11'>12</a>\u001b[0m \u001b[39mprint\u001b[39m(b)\n",
      "\u001b[1;31mTypeError\u001b[0m: factorial() takes 1 positional argument but 2 were given"
     ]
    }
   ],
   "source": [
    "class factor():\n",
    "\n",
    "    def factorial(num):\n",
    "        if num <= 1:\n",
    "            return 0\n",
    "\n",
    "        else:\n",
    "            return num * factorial(num - 1)\n",
    "a = factor()\n",
    "\n",
    "b = a.factorial(8)\n",
    "print(b)\n"
   ]
  }
 ],
 "metadata": {
  "kernelspec": {
   "display_name": "Python 3.9.12 ('base')",
   "language": "python",
   "name": "python3"
  },
  "language_info": {
   "codemirror_mode": {
    "name": "ipython",
    "version": 3
   },
   "file_extension": ".py",
   "mimetype": "text/x-python",
   "name": "python",
   "nbconvert_exporter": "python",
   "pygments_lexer": "ipython3",
   "version": "3.9.12 (main, Apr  4 2022, 05:22:27) [MSC v.1916 64 bit (AMD64)]"
  },
  "orig_nbformat": 4,
  "vscode": {
   "interpreter": {
    "hash": "263930470851f494f0ed2879c35b57985588df20f9e529b86e97dd5eb9ddc466"
   }
  }
 },
 "nbformat": 4,
 "nbformat_minor": 2
}
