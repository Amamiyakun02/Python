{
 "cells": [
  {
   "cell_type": "code",
   "execution_count": 1,
   "metadata": {},
   "outputs": [],
   "source": [
    "import numpy as np\n",
    "import random\n",
    "import math\n",
    "import matplotlib.pyplot as  plt"
   ]
  },
  {
   "cell_type": "code",
   "execution_count": 2,
   "metadata": {},
   "outputs": [
    {
     "name": "stdout",
     "output_type": "stream",
     "text": [
      "[ 8  5  8  8  9  6  4  1  8  7 15 26 24 13 12 18 11 20 13 12]\n"
     ]
    },
    {
     "data": {
      "image/png": "[encoded data removed]",
      "text/plain": [
       "<Figure size 640x480 with 1 Axes>"
      ]
     },
     "metadata": {},
     "output_type": "display_data"
    }
   ],
   "source": [
    "arr_a = np.array([np.random.randint(1,10) for i in range(10)])\n",
    "arr_b = np.array([np.random.randint(11,29) for i in range(10)])\n",
    "kombinasi = np.concatenate((arr_a,arr_b),axis=0)\n",
    "print(kombinasi)\n",
    "plt.scatter(arr_a,arr_b)\n",
    "plt.show()\n",
    "\n"
   ]
  },
  {
   "cell_type": "code",
   "execution_count": 3,
   "metadata": {},
   "outputs": [
    {
     "name": "stdout",
     "output_type": "stream",
     "text": [
      "[[ 8  5  8  8  9  6  4  1  8  7]\n",
      " [15 26 24 13 12 18 11 20 13 12]] \n",
      "\n",
      "[[[ 8 15]\n",
      "  [ 5 26]\n",
      "  [ 8 24]\n",
      "  [ 8 13]\n",
      "  [ 9 12]\n",
      "  [ 6 18]\n",
      "  [ 4 11]\n",
      "  [ 1 20]\n",
      "  [ 8 13]\n",
      "  [ 7 12]]] \n",
      "\n",
      "[ 8  5  8  8  9  6  4  1  8  7 15 26 24 13 12 18 11 20 13 12]\n"
     ]
    }
   ],
   "source": [
    "arr_a_new = arr_a.reshape(2,5)\n",
    "arr_b_new = arr_b.reshape(2,5)\n",
    "arr_kombinasi = np.concatenate((arr_a_new,arr_b_new),axis = 1)\n",
    "arr_kombinasii = np.concatenate((arr_a_new,arr_b_new),axis = 0)\n",
    "# print(arr_kombinasi)\n",
    "arr_stack = np.hstack((arr_a,arr_b))\n",
    "print(np.vstack((arr_a,arr_b)),\"\\n\")\n",
    "print(np.dstack((arr_a,arr_b)),'\\n')\n",
    "\n",
    "print(arr_stack)"
   ]
  },
  {
   "cell_type": "code",
   "execution_count": 4,
   "metadata": {},
   "outputs": [
    {
     "name": "stdout",
     "output_type": "stream",
     "text": [
      "[array([1, 2]), array([3, 4]), array([5, 6])]\n"
     ]
    }
   ],
   "source": [
    "arr_c = np.array([i+1 for i in range(6)])\n",
    "arr_c_new = np.array_split(arr_c,3)\n",
    "print(arr_c_new)"
   ]
  },
  {
   "cell_type": "code",
   "execution_count": 5,
   "metadata": {},
   "outputs": [
    {
     "name": "stdout",
     "output_type": "stream",
     "text": [
      "[array([[ 0,  1],\n",
      "       [ 5,  6],\n",
      "       [10, 11],\n",
      "       [15, 16],\n",
      "       [20, 21],\n",
      "       [25, 26],\n",
      "       [30, 31],\n",
      "       [35, 36],\n",
      "       [40, 41],\n",
      "       [45, 46]]), array([[ 2,  3],\n",
      "       [ 7,  8],\n",
      "       [12, 13],\n",
      "       [17, 18],\n",
      "       [22, 23],\n",
      "       [27, 28],\n",
      "       [32, 33],\n",
      "       [37, 38],\n",
      "       [42, 43],\n",
      "       [47, 48]]), array([[ 4],\n",
      "       [ 9],\n",
      "       [14],\n",
      "       [19],\n",
      "       [24],\n",
      "       [29],\n",
      "       [34],\n",
      "       [39],\n",
      "       [44],\n",
      "       [49]])]\n"
     ]
    }
   ],
   "source": [
    "arr_d = np.arange(50)\n",
    "arr_d = arr_d.reshape(10,5)\n",
    "arr_d_new = np.array_split(arr_d,3,axis=1)\n",
    "print(arr_d_new)"
   ]
  },
  {
   "cell_type": "code",
   "execution_count": 10,
   "metadata": {},
   "outputs": [
    {
     "name": "stdout",
     "output_type": "stream",
     "text": [
      "[[0. 0.]\n",
      " [0. 0.]]\n"
     ]
    }
   ],
   "source": [
    "zeors = np.zeros([2,2])\n",
    "print(zeors)"
   ]
  },
  {
   "cell_type": "code",
   "execution_count": 9,
   "metadata": {},
   "outputs": [
    {
     "name": "stdout",
     "output_type": "stream",
     "text": [
      "[[1. 1. 1. 1. 1.]\n",
      " [1. 1. 1. 1. 1.]\n",
      " [1. 1. 1. 1. 1.]]\n"
     ]
    }
   ],
   "source": [
    "ones = np.ones([3,5])\n",
    "\n",
    "print(ones)"
   ]
  }
 ],
 "metadata": {
  "kernelspec": {
   "display_name": "base",
   "language": "python",
   "name": "python3"
  },
  "language_info": {
   "codemirror_mode": {
    "name": "ipython",
    "version": 3
   },
   "file_extension": ".py",
   "mimetype": "text/x-python",
   "name": "python",
   "nbconvert_exporter": "python",
   "pygments_lexer": "ipython3",
   "version": "3.9.16"
  },
  "orig_nbformat": 4,
  "vscode": {
   "interpreter": {
    "hash": "263930470851f494f0ed2879c35b57985588df20f9e529b86e97dd5eb9ddc466"
   }
  }
 },
 "nbformat": 4,
 "nbformat_minor": 2
}
