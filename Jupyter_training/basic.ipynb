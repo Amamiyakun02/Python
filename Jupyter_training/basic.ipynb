{
 "cells": [
  {
   "cell_type": "markdown",
   "id": "4d2cae87-2cc8-4fe3-9bcb-d74846dd4acf",
   "metadata": {
    "tags": []
   },
   "source": [
    "## Basic Python\n"
   ]
  },
  {
   "cell_type": "code",
   "execution_count": 3,
   "id": "581c07cd-a426-4987-bad1-93773ba0a615",
   "metadata": {},
   "outputs": [
    {
     "name": "stdout",
     "output_type": "stream",
     "text": [
      "hello world\n"
     ]
    }
   ],
   "source": [
    "print(\"hello world\")"
   ]
  },
  {
   "cell_type": "code",
   "execution_count": 2,
   "id": "3dffeee0-5f01-448d-9c3d-1b99d2b70e40",
   "metadata": {},
   "outputs": [],
   "source": [
    "from pytube import YouTube"
   ]
  },
  {
   "cell_type": "code",
   "execution_count": 4,
   "id": "320f61a1-f195-4339-8c85-2510ea8f6204",
   "metadata": {},
   "outputs": [
    {
     "name": "stdin",
     "output_type": "stream",
     "text": [
      "masukkan Link.... https://youtu.be/L1jo-Om4l34\n"
     ]
    },
    {
     "ename": "AttributeError",
     "evalue": "'YouTube' object has no attribute 'Stream'",
     "output_type": "error",
     "traceback": [
      "\u001b[1;31m---------------------------------------------------------------------------\u001b[0m",
      "\u001b[1;31mAttributeError\u001b[0m                            Traceback (most recent call last)",
      "Cell \u001b[1;32mIn [4], line 3\u001b[0m\n\u001b[0;32m      1\u001b[0m link \u001b[38;5;241m=\u001b[39m \u001b[38;5;28minput\u001b[39m(\u001b[38;5;28mstr\u001b[39m(\u001b[38;5;124m\"\u001b[39m\u001b[38;5;124mmasukkan Link....\u001b[39m\u001b[38;5;124m\"\u001b[39m))\n\u001b[0;32m      2\u001b[0m video \u001b[38;5;241m=\u001b[39m YouTube(link)\n\u001b[1;32m----> 3\u001b[0m video \u001b[38;5;241m=\u001b[39m \u001b[43mvideo\u001b[49m\u001b[38;5;241;43m.\u001b[39;49m\u001b[43mStream\u001b[49m\u001b[38;5;241m.\u001b[39mget_highest_resolution()\n\u001b[0;32m      4\u001b[0m video\u001b[38;5;241m.\u001b[39mdownloads()\n",
      "\u001b[1;31mAttributeError\u001b[0m: 'YouTube' object has no attribute 'Stream'"
     ]
    }
   ],
   "source": [
    "link = input(str(\"masukkan Link....\"))\n",
    "video = YouTube(link)\n",
    "video = video.stre.get_highest_resolution()\n",
    "video.downloads()"
   ]
  }
 ],
 "metadata": {
  "kernelspec": {
   "display_name": "Python 3 (ipykernel)",
   "language": "python",
   "name": "python3"
  },
  "language_info": {
   "codemirror_mode": {
    "name": "ipython",
    "version": 3
   },
   "file_extension": ".py",
   "mimetype": "text/x-python",
   "name": "python",
   "nbconvert_exporter": "python",
   "pygments_lexer": "ipython3",
   "version": "3.9.13"
  }
 },
 "nbformat": 4,
 "nbformat_minor": 5
}
