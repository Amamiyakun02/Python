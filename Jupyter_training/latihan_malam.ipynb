{
 "cells": [
  {
   "cell_type": "code",
   "execution_count": 2,
   "id": "ebcfb8a7-a2d4-493e-8139-f72de37593ed",
   "metadata": {},
   "outputs": [
    {
     "name": "stdout",
     "output_type": "stream",
     "text": [
      "nilai a adalah 20 dan nilai b adalah 30\n"
     ]
    }
   ],
   "source": [
    "a,b = 20,30\n",
    "\n",
    "print(f\"nilai a adalah {a} dan nilai b adalah {b}\")"
   ]
  },
  {
   "cell_type": "code",
   "execution_count": 7,
   "id": "1c3680db-3572-4e03-9594-69fce7765040",
   "metadata": {},
   "outputs": [
    {
     "name": "stdout",
     "output_type": "stream",
     "text": [
      "nilai keduanya telah ditukar\n",
      "nilai a sekarang adalah 30 dan nilai b sekarang adalah 20\n"
     ]
    }
   ],
   "source": [
    "a,b = b,a\n",
    "\n",
    "print(\"nilai keduanya telah ditukar\")\n",
    "print(f\"nilai a sekarang adalah {a} dan nilai b sekarang adalah {b}\")"
   ]
  }
 ],
 "metadata": {
  "kernelspec": {
   "display_name": "Python 3 (ipykernel)",
   "language": "python",
   "name": "python3"
  },
  "language_info": {
   "codemirror_mode": {
    "name": "ipython",
    "version": 3
   },
   "file_extension": ".py",
   "mimetype": "text/x-python",
   "name": "python",
   "nbconvert_exporter": "python",
   "pygments_lexer": "ipython3",
   "version": "3.9.16"
  }
 },
 "nbformat": 4,
 "nbformat_minor": 5
}
