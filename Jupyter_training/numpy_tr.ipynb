{
 "cells": [
  {
   "cell_type": "code",
   "execution_count": 142,
   "metadata": {},
   "outputs": [],
   "source": [
    "import numpy as np\n",
    "import math\n",
    "import random"
   ]
  },
  {
   "cell_type": "code",
   "execution_count": 103,
   "metadata": {},
   "outputs": [
    {
     "name": "stdout",
     "output_type": "stream",
     "text": [
      "['a' 'b' 'c' 'd']\n",
      "1.21.5\n",
      "[[[8 2 3 5 5]]]\n",
      "7\n",
      "[[16  4  6 10 10]]\n",
      "[2.72202133 2.92391591 3.79839685 2.71985938 1.83811299 1.08282464\n",
      " 1.77749716 2.483606   1.74497004 2.56894137 2.3170287  2.16287703]\n",
      "[ 1.  2.  3.  4.  5.  6.  7.  8.  9. 10. 11. 12. 13. 14.]\n",
      "[2 3 1 1 1 2 2 0 1 2 0 2 3 2 0 1 0 0 2 2 3 1 3 2 4]\n",
      "[12. 18. 24.]\n",
      "[[ 2.  4.  6.  8. 10. 12. 14. 16. 18. 20.]\n",
      " [ 3.  6.  9. 12. 15. 18. 21. 24. 27. 30.]\n",
      " [ 4.  8. 12. 16. 20. 24. 28. 32. 36. 40.]]\n",
      "[2 2 3 2 1 1 1 2 1 2 2 2 2 1 0 1 1 1 2 3 0 3 2 0 3 1 2 1 0 1 1 1 0 1 0 1 2\n",
      " 0 2 0 3 3 1 2 3 2 2 2 4 0]\n",
      "[2 3 1 1 1 2 2 0 1 2 0 2 3 2 0 1 0 0 2 2 3 1 3 2 4]\n",
      "50\n"
     ]
    }
   ],
   "source": [
    "a = np.array(['a','b','c','d'])\n",
    "print(a)\n",
    "print(np.__version__)\n",
    "\n",
    "b = np.array(['8','2','3','5','5'],dtype = 'i')\n",
    "c = np.array([b],ndmin = 3)\n",
    "print(c)\n",
    "b = b[4] + 2\n",
    "print(b)\n",
    "for x in c:\n",
    "    for z in c:\n",
    "        print(x+z)\n",
    "z = 2\n",
    "numb = np.array([z+np.random.randn() for i in range(50)])\n",
    "print(numb[:12])\n",
    "num = np.linspace(1,50)\n",
    "print(num[:14])\n",
    "numb =numb.astype(int)\n",
    "print(numb[::2])\n",
    "dim0 = np.linspace(2,20,10)\n",
    "dim1 = np.linspace(3,30,10)\n",
    "dim2 = np.linspace(4,40,10)\n",
    "dim2_array = np.array([dim0,dim1,dim2])\n",
    "print(dim2_array[:,5])\n",
    "print(dim3_array)\n",
    "print(numb)\n",
    "print(numb[::2])\n",
    "print(len(numb))"
   ]
  },
  {
   "cell_type": "code",
   "execution_count": 106,
   "metadata": {},
   "outputs": [
    {
     "name": "stdout",
     "output_type": "stream",
     "text": [
      "[11  2  3  2  1  1  1  2  1  2  2  2  2  1  0  1  1  1  2  3  0  3  2  0\n",
      "  3  1  2  1  0  1  1  1  0  1  0  1  2  0  2  0  3  3  1  2  3  2  2  2\n",
      "  4  0]\n"
     ]
    }
   ],
   "source": [
    "a = numb.view()\n",
    "a[0]= 11\n",
    "print(a)"
   ]
  },
  {
   "cell_type": "code",
   "execution_count": 151,
   "metadata": {},
   "outputs": [
    {
     "name": "stdout",
     "output_type": "stream",
     "text": [
      "2\n",
      "(3, 10)\n",
      "1\n",
      "[1 2 3 4]\n",
      "2.0\n",
      "10\n",
      "20\n",
      "yes\n",
      "[12 12 11  1  3 20  2 13  6 17 18 15 19 14  1 17 15 13 11  8]\n"
     ]
    }
   ],
   "source": [
    "print(np.ndim(dim2_array))\n",
    "print(dim2_array.shape)\n",
    "\n",
    "arra = np.array([a+1 for a in range(4)])\n",
    "print(np.ndim(arra))\n",
    "print(arra)\n",
    "a = lambda x:math.sqrt(x)\n",
    "print(a(4))\n",
    "print(np.sum(arra))\n",
    "lam = lambda lam:lam *np.sum(arra)\n",
    "print(lam(2))\n",
    "\n",
    "iff = lambda a: \"yes\" if a < 2 else \"no\"\n",
    "print(iff(0))\n",
    "\n",
    "rando = np.array([random.randint(1,20) for i in range(20)])\n",
    "print(rando)"
   ]
  },
  {
   "cell_type": "code",
   "execution_count": 156,
   "metadata": {},
   "outputs": [
    {
     "name": "stdout",
     "output_type": "stream",
     "text": [
      "[ 1  1  2  3  6  8 11 11 12 12 13 13 14 15 15 17 17 18 19 20]\n",
      "2\n"
     ]
    }
   ],
   "source": [
    "print(np.sort(rando))\n",
    "x = 0\n",
    "for a in rando:\n",
    "    if a == 15:\n",
    "        x = x+1\n",
    "    else:\n",
    "        continue\n",
    "print(x)"
   ]
  },
  {
   "cell_type": "code",
   "execution_count": 165,
   "metadata": {},
   "outputs": [
    {
     "name": "stdout",
     "output_type": "stream",
     "text": [
      "[3.56187672 3.67829074 3.48024041 3.0642788  3.29568831 3.22170284\n",
      " 3.37138239 3.53841721 3.20906719 3.11344183 3.83599215 3.99610044\n",
      " 3.67302487 3.9272832  3.77419704 3.40124694 3.47163667 3.84610611\n",
      " 3.74816941 3.71273881]\n",
      "[3.0642788  3.11344183 3.20906719 3.22170284 3.29568831 3.37138239\n",
      " 3.40124694 3.47163667 3.48024041 3.53841721 3.56187672 3.67302487\n",
      " 3.67829074 3.71273881 3.74816941 3.77419704 3.83599215 3.84610611\n",
      " 3.9272832  3.99610044]\n"
     ]
    }
   ],
   "source": [
    "a = random.randint(1,3)\n",
    "x = np.array([a+random.random() for i in range(20)])\n",
    "print(x)\n",
    "print(np.sort(x))"
   ]
  },
  {
   "cell_type": "code",
   "execution_count": 173,
   "metadata": {},
   "outputs": [
    {
     "name": "stdout",
     "output_type": "stream",
     "text": [
      "[17  6  1 20 11  6  3  9  6 12 15  1 17 15  5 20  4  7 15 10]\n",
      "[[17  6  1 20 11]\n",
      " [ 6  3  9  6 12]\n",
      " [15  1 17 15  5]\n",
      " [20  4  7 15 10]]\n",
      "(4, 5)\n"
     ]
    }
   ],
   "source": [
    "arr1 = np.array([random.randint(1,20) for i in range(20)])\n",
    "print(arr1)\n",
    "arr1_new = arr1.reshape(4,5)\n",
    "print(arr1_new)\n",
    "print(np.shape(arr1_new))"
   ]
  },
  {
   "cell_type": "code",
   "execution_count": 194,
   "metadata": {},
   "outputs": [
    {
     "name": "stdout",
     "output_type": "stream",
     "text": [
      "[ 0  1  2  3  4  5  6  7  8  9 10 11 12 13 14 15 16 17 18 19 20 21 22 23\n",
      " 24 25 26]\n",
      "[[[ 0  1  2]\n",
      "  [ 3  4  5]\n",
      "  [ 6  7  8]]\n",
      "\n",
      " [[ 9 10 11]\n",
      "  [12 13 14]\n",
      "  [15 16 17]]\n",
      "\n",
      " [[18 19 20]\n",
      "  [21 22 23]\n",
      "  [24 25 26]]]\n"
     ]
    }
   ],
   "source": [
    "arr2 = np.arange(27)\n",
    "arr2_new = arr2.reshape(3,3,3)\n",
    "print(arr2)\n",
    "print(arr2_new)"
   ]
  },
  {
   "cell_type": "code",
   "execution_count": 195,
   "metadata": {},
   "outputs": [
    {
     "name": "stdout",
     "output_type": "stream",
     "text": [
      "[[ 0  2  4  6  8]\n",
      " [10 12 14 16 18]\n",
      " [20 22 24 26 28]\n",
      " [30 32 34 36 38]\n",
      " [40 42 44 46 48]]\n"
     ]
    }
   ],
   "source": [
    "arr3 = np.arange(0,50,2)\n",
    "arr3_new = arr3.reshape(5,5)\n",
    "print(arr3_new)"
   ]
  },
  {
   "cell_type": "code",
   "execution_count": 199,
   "metadata": {},
   "outputs": [
    {
     "name": "stdout",
     "output_type": "stream",
     "text": [
      "[[[0 1]\n",
      "  [2 3]]\n",
      "\n",
      " [[4 5]\n",
      "  [6 7]]]\n"
     ]
    }
   ],
   "source": [
    "arr4 = np.arange(8)\n",
    "arr4_new = arr4.reshape(2,2,-1)\n",
    "print(arr4_new)"
   ]
  },
  {
   "cell_type": "code",
   "execution_count": 216,
   "metadata": {},
   "outputs": [
    {
     "name": "stdout",
     "output_type": "stream",
     "text": [
      "[ 0  3  6  9 12 15 18]\n",
      "[ 0  3  6  9 12 15 18  0  6 12 18 24 30 36]\n",
      "(1, 7) 2\n"
     ]
    }
   ],
   "source": [
    "a = np.arange(0,20,3)\n",
    "print(a)\n",
    "b = np.arange(0,40,6)\n",
    "arr5 = np.array([a,b])\n",
    "arr5_new = arr5.reshape(-3)\n",
    "print(arr5_new)\n",
    "a = a[np.newaxis,:]\n",
    "print(a.shape,a.ndim)\n"
   ]
  },
  {
   "cell_type": "code",
   "execution_count": 229,
   "metadata": {},
   "outputs": [
    {
     "name": "stdout",
     "output_type": "stream",
     "text": [
      "40\n",
      "[[20 22 24 26 28 30 32 34]\n",
      " [36 38 40 42 44 46 48 50]\n",
      " [52 54 56 58 60 62 64 66]\n",
      " [68 70 72 74 76 78 80 82]\n",
      " [84 86 88 90 92 94 96 98]]\n",
      "21\n",
      "23\n",
      "25\n",
      "27\n",
      "29\n",
      "31\n",
      "33\n",
      "35\n",
      "37\n",
      "39\n",
      "41\n",
      "43\n",
      "45\n",
      "47\n",
      "49\n",
      "51\n",
      "53\n",
      "55\n",
      "57\n",
      "59\n",
      "61\n",
      "63\n",
      "65\n",
      "67\n",
      "69\n",
      "71\n",
      "73\n",
      "75\n",
      "77\n",
      "79\n",
      "81\n",
      "83\n",
      "85\n",
      "87\n",
      "89\n",
      "91\n",
      "93\n",
      "95\n",
      "97\n",
      "99\n"
     ]
    }
   ],
   "source": [
    "arr6 = np.arange(20,100,2)\n",
    "# for x in arr6:\n",
    "#     print(x)\n",
    "print(len(arr6))\n",
    "arr6_new = arr6.reshape(5,8)\n",
    "print(arr6_new)\n",
    "for x in arr6_new:\n",
    "    for i in x:\n",
    "        print(i)"
   ]
  }
 ],
 "metadata": {
  "kernelspec": {
   "display_name": "base",
   "language": "python",
   "name": "python3"
  },
  "language_info": {
   "codemirror_mode": {
    "name": "ipython",
    "version": 3
   },
   "file_extension": ".py",
   "mimetype": "text/x-python",
   "name": "python",
   "nbconvert_exporter": "python",
   "pygments_lexer": "ipython3",
   "version": "3.9.16 (main, Jan 11 2023, 16:16:36) [MSC v.1916 64 bit (AMD64)]"
  },
  "orig_nbformat": 4,
  "vscode": {
   "interpreter": {
    "hash": "263930470851f494f0ed2879c35b57985588df20f9e529b86e97dd5eb9ddc466"
   }
  }
 },
 "nbformat": 4,
 "nbformat_minor": 2
}
