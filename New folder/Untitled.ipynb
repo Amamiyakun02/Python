{
 "cells": [
  {
   "cell_type": "code",
   "execution_count": 4,
   "id": "d72eb36d-aaf8-47f1-8940-833b13839210",
   "metadata": {},
   "outputs": [
    {
     "name": "stdin",
     "output_type": "stream",
     "text": [
      " 2 2\n",
      " 0 1\n",
      " 0 0\n"
     ]
    }
   ],
   "source": [
    "if __name__ == '__main__':\n",
    "     \n",
    "    #  n is the number of vertices\n",
    "    #  m is the number of edges\n",
    "    n, m = map(int, input().split())\n",
    "    adjMat = [[0 for i in range(n)]for j in range(n)]\n",
    "    for i in range(n):\n",
    "        u, v = map(int, input().split())\n",
    "        adjMat[u][v] = 1\n",
    "        adjMat[v][u] = 1\n",
    "        # for a directed graph with an edge\n",
    "        # pointing from u to v,we just assign\n",
    "        # adjMat[u][v] as 1"
   ]
  }
 ],
 "metadata": {
  "kernelspec": {
   "display_name": "Python 3 (ipykernel)",
   "language": "python",
   "name": "python3"
  },
  "language_info": {
   "codemirror_mode": {
    "name": "ipython",
    "version": 3
   },
   "file_extension": ".py",
   "mimetype": "text/x-python",
   "name": "python",
   "nbconvert_exporter": "python",
   "pygments_lexer": "ipython3",
   "version": "3.9.13"
  }
 },
 "nbformat": 4,
 "nbformat_minor": 5
}
